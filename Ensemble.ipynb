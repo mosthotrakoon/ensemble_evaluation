{
 "cells": [
  {
   "cell_type": "markdown",
   "id": "37b12c61-ff8d-42cd-b27f-e03b22654cf0",
   "metadata": {},
   "source": [
    "# [Mini-Project] -> Metacercaria classification with 4 models"
   ]
  },
  {
   "cell_type": "markdown",
   "id": "101065fd-3826-498a-88a8-94e8f43f7a37",
   "metadata": {},
   "source": [
    "## 1.1) Create dataset"
   ]
  },
  {
   "cell_type": "code",
   "execution_count": 47,
   "id": "b37058c8-d10b-4335-ab2e-3eade9f9aa28",
   "metadata": {},
   "outputs": [
    {
     "name": "stdout",
     "output_type": "stream",
     "text": [
      "encyst : 1000\n",
      "wall : 1000\n",
      "body_width : 1000\n",
      "body_height : 1000\n",
      "oral_width : 1000\n",
      "oral_height : 1000\n",
      "ventral_width : 1000\n",
      "ventral_height : 1000\n",
      "pharynx_width : 1000\n",
      "pharynx_height : 1000\n",
      "ex_bladder_width : 1000\n",
      "ex_bladder_height : 1000\n",
      "\n",
      "Metacercaria : 625\n",
      "Non-metacercaria : 375\n"
     ]
    }
   ],
   "source": [
    "import numpy as np\n",
    "\n",
    "np.random.seed(42)\n",
    "SAMPLE = 1000\n",
    "percentage_error = 0.04\n",
    "metacercaria = []\n",
    "confidence_score = 10\n",
    "\n",
    "data_range = {\n",
    "    'encyst': (175, 195),\n",
    "    'wall': (5, 8),\n",
    "    'body_width': (115, 133),\n",
    "    'body_height': (173, 198),\n",
    "    'oral_width': (48, 70),\n",
    "    'oral_height': (30, 35),\n",
    "    'ventral_width': (35, 45),\n",
    "    'ventral_height': (15, 20),\n",
    "    'pharynx_width': (18, 23),\n",
    "    'pharynx_height': (38, 48),\n",
    "    'ex_bladder_width': (38, 45),\n",
    "    'ex_bladder_height': (63, 73)\n",
    "}\n",
    "\n",
    "data_list = {\n",
    "    'encyst': [],\n",
    "    'wall': [],\n",
    "    'body_width': [],\n",
    "    'body_height': [],\n",
    "    'oral_width': [],\n",
    "    'oral_height': [],\n",
    "    'ventral_width': [],\n",
    "    'ventral_height': [],\n",
    "    'pharynx_width': [],\n",
    "    'pharynx_height': [],\n",
    "    'ex_bladder_width': [],\n",
    "    'ex_bladder_height': []\n",
    "}\n",
    "\n",
    "for index, key  in enumerate(data_range):\n",
    "    ceil = data_range[key][0] - int(data_range[key][0] * percentage_error)\n",
    "    floor = data_range[key][1] + int(data_range[key][1] * percentage_error)\n",
    "    data_list[key] = np.random.randint(ceil, floor+1, SAMPLE)\n",
    "    print(\"{} : {}\".format(key, len(data_list[key])))\n",
    "\n",
    "for i in range(SAMPLE):\n",
    "    score = 0\n",
    "    for index, key in enumerate(data_range):\n",
    "        if data_range[key][0] <= data_list[key][i] <= data_range[key][1]:\n",
    "            score += 1\n",
    "    #print(\"score : {}\".format(score))\n",
    "    metacercaria.append(1 if score >= confidence_score else 0)\n",
    "    \n",
    "print(\"\\nMetacercaria : {}\".format(metacercaria.count(1)))\n",
    "print(\"Non-metacercaria : {}\".format(metacercaria.count(0)))"
   ]
  },
  {
   "cell_type": "markdown",
   "id": "6bb5f1d2-84d0-496b-b99c-d6f90fa5a996",
   "metadata": {},
   "source": [
    "## 1.2) Convert raw data to panda dataframe"
   ]
  },
  {
   "cell_type": "code",
   "execution_count": 54,
   "id": "f5fc5337-0d95-4ff8-8f32-74d6d6ea53a6",
   "metadata": {},
   "outputs": [
    {
     "data": {
      "text/html": [
       "<div>\n",
       "<style scoped>\n",
       "    .dataframe tbody tr th:only-of-type {\n",
       "        vertical-align: middle;\n",
       "    }\n",
       "\n",
       "    .dataframe tbody tr th {\n",
       "        vertical-align: top;\n",
       "    }\n",
       "\n",
       "    .dataframe thead th {\n",
       "        text-align: right;\n",
       "    }\n",
       "</style>\n",
       "<table border=\"1\" class=\"dataframe\">\n",
       "  <thead>\n",
       "    <tr style=\"text-align: right;\">\n",
       "      <th></th>\n",
       "      <th>encyst</th>\n",
       "      <th>wall</th>\n",
       "      <th>body_width</th>\n",
       "      <th>body_height</th>\n",
       "      <th>oral_width</th>\n",
       "      <th>oral_height</th>\n",
       "      <th>ventral_width</th>\n",
       "      <th>ventral_height</th>\n",
       "      <th>pharynx_width</th>\n",
       "      <th>pharynx_height</th>\n",
       "      <th>ex_bladder_width</th>\n",
       "      <th>ex_bladder_height</th>\n",
       "    </tr>\n",
       "  </thead>\n",
       "  <tbody>\n",
       "    <tr>\n",
       "      <th>0</th>\n",
       "      <td>196</td>\n",
       "      <td>6</td>\n",
       "      <td>121</td>\n",
       "      <td>197</td>\n",
       "      <td>58</td>\n",
       "      <td>32</td>\n",
       "      <td>37</td>\n",
       "      <td>16</td>\n",
       "      <td>18</td>\n",
       "      <td>42</td>\n",
       "      <td>46</td>\n",
       "      <td>73</td>\n",
       "    </tr>\n",
       "    <tr>\n",
       "      <th>1</th>\n",
       "      <td>182</td>\n",
       "      <td>5</td>\n",
       "      <td>112</td>\n",
       "      <td>186</td>\n",
       "      <td>55</td>\n",
       "      <td>34</td>\n",
       "      <td>35</td>\n",
       "      <td>19</td>\n",
       "      <td>23</td>\n",
       "      <td>38</td>\n",
       "      <td>37</td>\n",
       "      <td>61</td>\n",
       "    </tr>\n",
       "    <tr>\n",
       "      <th>2</th>\n",
       "      <td>175</td>\n",
       "      <td>8</td>\n",
       "      <td>135</td>\n",
       "      <td>190</td>\n",
       "      <td>51</td>\n",
       "      <td>29</td>\n",
       "      <td>43</td>\n",
       "      <td>19</td>\n",
       "      <td>23</td>\n",
       "      <td>37</td>\n",
       "      <td>43</td>\n",
       "      <td>61</td>\n",
       "    </tr>\n",
       "    <tr>\n",
       "      <th>3</th>\n",
       "      <td>188</td>\n",
       "      <td>6</td>\n",
       "      <td>128</td>\n",
       "      <td>191</td>\n",
       "      <td>56</td>\n",
       "      <td>34</td>\n",
       "      <td>36</td>\n",
       "      <td>18</td>\n",
       "      <td>23</td>\n",
       "      <td>42</td>\n",
       "      <td>37</td>\n",
       "      <td>72</td>\n",
       "    </tr>\n",
       "    <tr>\n",
       "      <th>4</th>\n",
       "      <td>186</td>\n",
       "      <td>5</td>\n",
       "      <td>135</td>\n",
       "      <td>202</td>\n",
       "      <td>50</td>\n",
       "      <td>31</td>\n",
       "      <td>44</td>\n",
       "      <td>16</td>\n",
       "      <td>21</td>\n",
       "      <td>38</td>\n",
       "      <td>43</td>\n",
       "      <td>72</td>\n",
       "    </tr>\n",
       "    <tr>\n",
       "      <th>5</th>\n",
       "      <td>190</td>\n",
       "      <td>5</td>\n",
       "      <td>117</td>\n",
       "      <td>187</td>\n",
       "      <td>51</td>\n",
       "      <td>36</td>\n",
       "      <td>44</td>\n",
       "      <td>19</td>\n",
       "      <td>18</td>\n",
       "      <td>42</td>\n",
       "      <td>46</td>\n",
       "      <td>64</td>\n",
       "    </tr>\n",
       "    <tr>\n",
       "      <th>6</th>\n",
       "      <td>178</td>\n",
       "      <td>7</td>\n",
       "      <td>134</td>\n",
       "      <td>196</td>\n",
       "      <td>56</td>\n",
       "      <td>31</td>\n",
       "      <td>38</td>\n",
       "      <td>16</td>\n",
       "      <td>20</td>\n",
       "      <td>46</td>\n",
       "      <td>44</td>\n",
       "      <td>62</td>\n",
       "    </tr>\n",
       "    <tr>\n",
       "      <th>7</th>\n",
       "      <td>178</td>\n",
       "      <td>5</td>\n",
       "      <td>125</td>\n",
       "      <td>190</td>\n",
       "      <td>57</td>\n",
       "      <td>33</td>\n",
       "      <td>38</td>\n",
       "      <td>19</td>\n",
       "      <td>18</td>\n",
       "      <td>44</td>\n",
       "      <td>45</td>\n",
       "      <td>63</td>\n",
       "    </tr>\n",
       "    <tr>\n",
       "      <th>8</th>\n",
       "      <td>191</td>\n",
       "      <td>6</td>\n",
       "      <td>121</td>\n",
       "      <td>196</td>\n",
       "      <td>67</td>\n",
       "      <td>30</td>\n",
       "      <td>39</td>\n",
       "      <td>15</td>\n",
       "      <td>21</td>\n",
       "      <td>38</td>\n",
       "      <td>39</td>\n",
       "      <td>71</td>\n",
       "    </tr>\n",
       "    <tr>\n",
       "      <th>9</th>\n",
       "      <td>191</td>\n",
       "      <td>6</td>\n",
       "      <td>128</td>\n",
       "      <td>188</td>\n",
       "      <td>70</td>\n",
       "      <td>31</td>\n",
       "      <td>46</td>\n",
       "      <td>17</td>\n",
       "      <td>19</td>\n",
       "      <td>47</td>\n",
       "      <td>40</td>\n",
       "      <td>69</td>\n",
       "    </tr>\n",
       "  </tbody>\n",
       "</table>\n",
       "</div>"
      ],
      "text/plain": [
       "   encyst  wall  body_width  body_height  oral_width  oral_height  \\\n",
       "0     196     6         121          197          58           32   \n",
       "1     182     5         112          186          55           34   \n",
       "2     175     8         135          190          51           29   \n",
       "3     188     6         128          191          56           34   \n",
       "4     186     5         135          202          50           31   \n",
       "5     190     5         117          187          51           36   \n",
       "6     178     7         134          196          56           31   \n",
       "7     178     5         125          190          57           33   \n",
       "8     191     6         121          196          67           30   \n",
       "9     191     6         128          188          70           31   \n",
       "\n",
       "   ventral_width  ventral_height  pharynx_width  pharynx_height  \\\n",
       "0             37              16             18              42   \n",
       "1             35              19             23              38   \n",
       "2             43              19             23              37   \n",
       "3             36              18             23              42   \n",
       "4             44              16             21              38   \n",
       "5             44              19             18              42   \n",
       "6             38              16             20              46   \n",
       "7             38              19             18              44   \n",
       "8             39              15             21              38   \n",
       "9             46              17             19              47   \n",
       "\n",
       "   ex_bladder_width  ex_bladder_height  \n",
       "0                46                 73  \n",
       "1                37                 61  \n",
       "2                43                 61  \n",
       "3                37                 72  \n",
       "4                43                 72  \n",
       "5                46                 64  \n",
       "6                44                 62  \n",
       "7                45                 63  \n",
       "8                39                 71  \n",
       "9                40                 69  "
      ]
     },
     "execution_count": 54,
     "metadata": {},
     "output_type": "execute_result"
    }
   ],
   "source": [
    "import pandas as pd\n",
    "from sklearn.model_selection import train_test_split\n",
    "\n",
    "X = pd.DataFrame(data_list)\n",
    "Y = np.array(metacercaria)\n",
    "X_train, X_test, Y_train, Y_test = train_test_split(X, Y, test_size=0.2, shuffle=True, random_state=42)\n",
    "X.head(10)"
   ]
  },
  {
   "cell_type": "markdown",
   "id": "fa58e614-d533-4702-b637-e7d2ab7fb629",
   "metadata": {},
   "source": [
    "## 1.3) Evaluate function"
   ]
  },
  {
   "cell_type": "code",
   "execution_count": 49,
   "id": "2cb08f4d-2e66-455f-80c1-51f37e93a5a7",
   "metadata": {},
   "outputs": [],
   "source": [
    "from sklearn.metrics import accuracy_score, precision_score, recall_score, f1_score, classification_report\n",
    "from sklearn.metrics import confusion_matrix, ConfusionMatrixDisplay\n",
    "from matplotlib import pyplot as plt\n",
    "\n",
    "def evaluate(y_true, y_pred):\n",
    "    accuracy = accuracy_score(y_true, y_pred)\n",
    "    precision = precision_score(y_true, y_pred, zero_division=0)\n",
    "    recall = recall_score(y_true, y_pred, zero_division=0)\n",
    "    f1 = f1_score(y_true, y_pred)\n",
    "    clf_report = classification_report(y_true, y_pred, zero_division=0)\n",
    "\n",
    "    print('Y_true of [Metacercaria] : {}'.format(np.sum(y_true == 1)))\n",
    "    print('Y_pred of [Metacercaria] : {}'.format(np.sum(y_pred == 1)))\n",
    "    print('Y_true of [Non-metecercaria] : {}'.format(np.sum(y_true == 0)))\n",
    "    print('Y_pred of [Non-metacercaria] : {}'.format(np.sum(y_pred == 0)))\n",
    "    print('Accuracy : {:.2f}%'.format(accuracy*100))\n",
    "    print('Precision : {:.2f}%'.format(precision*100))\n",
    "    print('Recall : {:.2f}%'.format(recall*100))\n",
    "    print('F1 : {:.2f}%'.format(f1*100))\n",
    "    print(clf_report)\n",
    "\n",
    "    # Calculate confusion matrix\n",
    "    cm = confusion_matrix(y_true, y_pred)\n",
    "    \n",
    "    # Display the confusion matrix\n",
    "    disp = ConfusionMatrixDisplay(confusion_matrix=cm, display_labels=[\"Non-Metacercaria\", \"Metacercaria\"])\n",
    "    disp.plot(cmap=plt.cm.Blues)\n",
    "    plt.show()"
   ]
  },
  {
   "cell_type": "markdown",
   "id": "f2dc483c-ea3f-45b3-be07-476cd1f0bf2a",
   "metadata": {},
   "source": [
    "## 2.) Naive bayes model"
   ]
  },
  {
   "cell_type": "code",
   "execution_count": 50,
   "id": "83ffce87-8ac6-494a-bf37-d9b877bdd195",
   "metadata": {},
   "outputs": [
    {
     "name": "stdout",
     "output_type": "stream",
     "text": [
      "Y_true of [Metacercaria] : 126\n",
      "Y_pred of [Metacercaria] : 200\n",
      "Y_true of [Non-metecercaria] : 74\n",
      "Y_pred of [Non-metacercaria] : 0\n",
      "Accuracy : 63.00%\n",
      "Precision : 63.00%\n",
      "Recall : 100.00%\n",
      "F1 : 77.30%\n",
      "              precision    recall  f1-score   support\n",
      "\n",
      "           0       0.00      0.00      0.00        74\n",
      "           1       0.63      1.00      0.77       126\n",
      "\n",
      "    accuracy                           0.63       200\n",
      "   macro avg       0.32      0.50      0.39       200\n",
      "weighted avg       0.40      0.63      0.49       200\n",
      "\n"
     ]
    },
    {
     "data": {
      "image/png": "[encoded data removed]",
      "text/plain": [
       "<Figure size 640x480 with 2 Axes>"
      ]
     },
     "metadata": {},
     "output_type": "display_data"
    }
   ],
   "source": [
    "from sklearn.naive_bayes import BernoulliNB\n",
    "\n",
    "nb = BernoulliNB()\n",
    "nb = nb.fit(X_train, Y_train)\n",
    "Y_pred = nb.predict(X_test)\n",
    "evaluate(Y_test, Y_pred)"
   ]
  },
  {
   "cell_type": "markdown",
   "id": "a8195e44-e947-4b91-8fb4-26c4ec544955",
   "metadata": {},
   "source": [
    "## 3.) Decision tree classifier model"
   ]
  },
  {
   "cell_type": "code",
   "execution_count": 51,
   "id": "08676e50-77ef-4b22-a338-9a09436dc1fa",
   "metadata": {},
   "outputs": [
    {
     "name": "stdout",
     "output_type": "stream",
     "text": [
      "Y_true of [Metacercaria] : 126\n",
      "Y_pred of [Metacercaria] : 125\n",
      "Y_true of [Non-metecercaria] : 74\n",
      "Y_pred of [Non-metacercaria] : 75\n",
      "Accuracy : 68.50%\n",
      "Precision : 75.20%\n",
      "Recall : 74.60%\n",
      "F1 : 74.90%\n",
      "              precision    recall  f1-score   support\n",
      "\n",
      "           0       0.57      0.58      0.58        74\n",
      "           1       0.75      0.75      0.75       126\n",
      "\n",
      "    accuracy                           0.69       200\n",
      "   macro avg       0.66      0.66      0.66       200\n",
      "weighted avg       0.69      0.69      0.69       200\n",
      "\n"
     ]
    },
    {
     "data": {
      "image/png": "[encoded data removed]",
      "text/plain": [
       "<Figure size 640x480 with 2 Axes>"
      ]
     },
     "metadata": {},
     "output_type": "display_data"
    }
   ],
   "source": [
    "from sklearn.tree import DecisionTreeClassifier\n",
    "\n",
    "dt = DecisionTreeClassifier()\n",
    "dt = dt.fit(X_train, Y_train)\n",
    "Y_pred = dt.predict(X_test)\n",
    "\n",
    "evaluate(Y_test, Y_pred)"
   ]
  },
  {
   "cell_type": "markdown",
   "id": "fddb10ad-7c5c-4174-b7ef-e2accd392c25",
   "metadata": {},
   "source": [
    "## 4.) Multi-Layer Perceptron model"
   ]
  },
  {
   "cell_type": "code",
   "execution_count": 52,
   "id": "2a1faa98-5cdf-4d72-a3c1-dbac63bbd4d5",
   "metadata": {},
   "outputs": [
    {
     "name": "stdout",
     "output_type": "stream",
     "text": [
      "Y_true of [Metacercaria] : 126\n",
      "Y_pred of [Metacercaria] : 185\n",
      "Y_true of [Non-metecercaria] : 74\n",
      "Y_pred of [Non-metacercaria] : 15\n",
      "Accuracy : 67.50%\n",
      "Precision : 66.49%\n",
      "Recall : 97.62%\n",
      "F1 : 79.10%\n",
      "              precision    recall  f1-score   support\n",
      "\n",
      "           0       0.80      0.16      0.27        74\n",
      "           1       0.66      0.98      0.79       126\n",
      "\n",
      "    accuracy                           0.68       200\n",
      "   macro avg       0.73      0.57      0.53       200\n",
      "weighted avg       0.71      0.68      0.60       200\n",
      "\n"
     ]
    },
    {
     "data": {
      "image/png": "[encoded data removed]",
      "text/plain": [
       "<Figure size 640x480 with 2 Axes>"
      ]
     },
     "metadata": {},
     "output_type": "display_data"
    }
   ],
   "source": [
    "from sklearn.neural_network import MLPClassifier\n",
    "\n",
    "mlp = MLPClassifier()\n",
    "mlp = mlp.fit(X_train, Y_train)\n",
    "Y_pred = mlp.predict(X_test)\n",
    "\n",
    "evaluate(Y_test, Y_pred)"
   ]
  },
  {
   "cell_type": "markdown",
   "id": "060e7486-2b35-4608-bf70-ce591392b385",
   "metadata": {},
   "source": [
    "## 5.) Ensemble model (Naive bayes, Decision tree, MLP)"
   ]
  },
  {
   "cell_type": "code",
   "execution_count": 53,
   "id": "73361a9f-d344-4cce-a6e8-c60c27daede7",
   "metadata": {},
   "outputs": [
    {
     "name": "stdout",
     "output_type": "stream",
     "text": [
      "Y_true of [Metacercaria] : 126\n",
      "Y_pred of [Metacercaria] : 195\n",
      "Y_true of [Non-metecercaria] : 74\n",
      "Y_pred of [Non-metacercaria] : 5\n",
      "Accuracy : 65.50%\n",
      "Precision : 64.62%\n",
      "Recall : 100.00%\n",
      "F1 : 78.50%\n",
      "              precision    recall  f1-score   support\n",
      "\n",
      "           0       1.00      0.07      0.13        74\n",
      "           1       0.65      1.00      0.79       126\n",
      "\n",
      "    accuracy                           0.66       200\n",
      "   macro avg       0.82      0.53      0.46       200\n",
      "weighted avg       0.78      0.66      0.54       200\n",
      "\n"
     ]
    },
    {
     "data": {
      "image/png": "[encoded data removed]",
      "text/plain": [
       "<Figure size 640x480 with 2 Axes>"
      ]
     },
     "metadata": {},
     "output_type": "display_data"
    }
   ],
   "source": [
    "from sklearn.ensemble import VotingClassifier\n",
    "\n",
    "dt = DecisionTreeClassifier()\n",
    "nb = BernoulliNB()\n",
    "mlp = MLPClassifier()\n",
    "\n",
    "ensemble = VotingClassifier(estimators=[\n",
    "    ('decision_tree', dt),\n",
    "    ('naive_bayes', nb),\n",
    "    ('multi_layer_perceptron', mlp)\n",
    "])\n",
    "\n",
    "ensemble.fit(X_train, Y_train)\n",
    "Y_pred = ensemble.predict(X_test)\n",
    "\n",
    "evaluate(Y_test, Y_pred)"
   ]
  }
 ],
 "metadata": {
  "kernelspec": {
   "display_name": "Python 3 (ipykernel)",
   "language": "python",
   "name": "python3"
  },
  "language_info": {
   "codemirror_mode": {
    "name": "ipython",
    "version": 3
   },
   "file_extension": ".py",
   "mimetype": "text/x-python",
   "name": "python",
   "nbconvert_exporter": "python",
   "pygments_lexer": "ipython3",
   "version": "3.9.6"
  }
 },
 "nbformat": 4,
 "nbformat_minor": 5
}
